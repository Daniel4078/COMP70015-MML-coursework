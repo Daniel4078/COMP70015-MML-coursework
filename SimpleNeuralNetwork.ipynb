{
 "cells": [
  {
   "cell_type": "code",
   "execution_count": 1,
   "metadata": {
    "ExecuteTime": {
     "end_time": "2024-11-17T14:15:04.160362500Z",
     "start_time": "2024-11-17T14:15:04.148831Z"
    }
   },
   "outputs": [],
   "source": [
    "import os\n",
    "\n",
    "def load_data_by_dimension(dimension, dataset_path=\"\"):\n",
    "    root = os.path.join(dataset_path, \"./datasets/\") \n",
    "    data_filename = root + f'kryptonite-{dimension}-X.npy'\n",
    "    labels_filename = root + f'kryptonite-{dimension}-y.npy'\n",
    "\n",
    "    data = np.load(data_filename)\n",
    "    labels = np.load(labels_filename)\n",
    "    print(f\"Loaded dataset with dimension {dimension}. Data shape: {data.shape}, Labels shape: {labels.shape}\")\n",
    "    return data, labels"
   ]
  },
  {
   "cell_type": "code",
   "execution_count": 6,
   "metadata": {
    "collapsed": false,
    "ExecuteTime": {
     "end_time": "2024-11-17T14:35:24.356421400Z",
     "start_time": "2024-11-17T14:35:24.328677100Z"
    }
   },
   "outputs": [],
   "source": [
    "# feature aggregation and grouping.\n",
    "# Grouping Criteria: variance\n",
    "# Aggregation Function: mean\n",
    "import numpy as np\n",
    "def load_aggregated_data(dimension, bincount, dataset_path=\"\"): \n",
    "    data, labels = load_data_by_dimension(dimension, dataset_path)\n",
    "    if data is not None:\n",
    "        v = np.var(data, axis=0)\n",
    "        index = np.argsort(v)\n",
    "        l = len(index)//bincount\n",
    "        bins = [[]for _ in range(bincount)]\n",
    "        r = len(index)%bincount != 0\n",
    "        for i in range(bincount):\n",
    "            bins[i].extend(index[i*l:i*l+l])\n",
    "        if r != 0:\n",
    "            bins.append(index[-r:])\n",
    "        n = []\n",
    "        for b in bins:\n",
    "            temp = []\n",
    "            for column_index in b:\n",
    "                temp.append(data[:,column_index])\n",
    "            temp = np.array(temp)\n",
    "            temp = np.mean(temp, axis=0)\n",
    "            n.append(temp)\n",
    "        n = np.array(n)\n",
    "        data = n.transpose()\n",
    "    return data, labels\n",
    "\n",
    "def load_reduced_data(dimension, portion, dataset_path=\"\"): \n",
    "    data, labels = load_data_by_dimension(dimension, dataset_path)\n",
    "    if data is not None:\n",
    "        v = np.var(data, axis=0)\n",
    "        index = np.argsort(v)\n",
    "        n = []\n",
    "        l = len(index)\n",
    "        for i in range(0,l-l//portion):\n",
    "            n.append(data[:,i])\n",
    "        n = np.array(n)\n",
    "        data = n.transpose()\n",
    "    return data, labels"
   ]
  },
  {
   "cell_type": "code",
   "execution_count": 8,
   "metadata": {
    "collapsed": false,
    "ExecuteTime": {
     "end_time": "2024-11-17T15:04:23.771289300Z",
     "start_time": "2024-11-17T15:04:23.731082500Z"
    }
   },
   "outputs": [],
   "source": [
    "import time\n",
    "from datetime import datetime\n",
    "from ray import train, tune\n",
    "from ray.tune.search.optuna import OptunaSearch\n",
    "from sklearn.neural_network import MLPClassifier\n",
    "from sklearn.model_selection import train_test_split\n",
    "\n",
    "cs = {\n",
    "    \"layer_width\": tune.randint(4, 16),\n",
    "    \"layer_depth\": tune.randint(2, 5),\n",
    "    \"activation\": tune.choice(['relu','tanh','logistic']),\n",
    "    \"lr\": tune.loguniform(1e-4, 1e-2), \"momentum\": tune.uniform(0.1, 0.9),\n",
    "    \"preprocess\": tune.choice(['base', 'reduced']),\n",
    "    \"portion\": tune.choice([1/3, 1/4, 1/5])\n",
    "# activation=\"relu\",\n",
    "# solver = \"adam\",\n",
    "# alpha = 0.0001,\n",
    "# batch_size = \"auto\",\n",
    "# learning_rate = \"constant\",\n",
    "# learning_rate_init = 0.001,\n",
    "# power_t = 0.5,\n",
    "# max_iter = 200,\n",
    "# shuffle = True,\n",
    "# random_state = None,\n",
    "# tol = 1e-4,\n",
    "# verbose = False,\n",
    "# warm_start = False,\n",
    "# momentum = 0.9,\n",
    "# nesterovs_momentum = True,\n",
    "# early_stopping = False,\n",
    "# validation_fraction = 0.1,\n",
    "# beta_1 = 0.9,\n",
    "# beta_2 = 0.999,\n",
    "# epsilon = 1e-8,\n",
    "# n_iter_no_change = 10,\n",
    "# max_fun = 15000,\n",
    "}\n",
    "\n",
    "def objective(config):\n",
    "    if config[\"preprocess\"] == \"aggregated\":\n",
    "        data, labels = load_aggregated_data(objective.dim, 3, objective.dataset_path)\n",
    "    elif config[\"preprocess\"] == \"reduced\":\n",
    "        data, labels = load_reduced_data(objective.dim, config[\"portion\"], objective.dataset_path)\n",
    "    else:\n",
    "        data, labels = load_data_by_dimension(objective.dim, objective.dataset_path)\n",
    "    print(data.shape)\n",
    "    X_train, X_test, y_train, y_test = train_test_split(data, labels, test_size=0.2)\n",
    "    layers = [config[\"layer_width\"]*config[\"layer_depth\"]]\n",
    "    model = MLPClassifier(hidden_layer_sizes=layers, max_iter=1000, activation=config[\"activation\"], learning_rate_init=config[\"lr\"], momentum=config[\"momentum\"])\n",
    "    while True:\n",
    "        model.fit(X_train, y_train)\n",
    "        acc = model.score(X_test, y_test)\n",
    "        train.report({\"mean_accuracy\": acc})  # Report to Tune"
   ]
  },
  {
   "cell_type": "code",
   "execution_count": 9,
   "metadata": {
    "collapsed": false,
    "ExecuteTime": {
     "end_time": "2024-11-17T15:04:25.580426900Z",
     "start_time": "2024-11-17T15:04:25.560420600Z"
    }
   },
   "outputs": [],
   "source": [
    "# hyperparameter search\n",
    "def search(dim):\n",
    "    algo = OptunaSearch()\n",
    "    objective.dim = dim\n",
    "    objective.dataset_path = os.getcwd()\n",
    "    tuner = tune.Tuner(\n",
    "        objective,\n",
    "        tune_config=tune.TuneConfig(\n",
    "            metric=\"mean_accuracy\",\n",
    "            mode=\"max\",\n",
    "            search_alg=algo,\n",
    "            num_samples=-1,\n",
    "            time_budget_s=60 * 3,\n",
    "            trial_dirname_creator=lambda x: datetime.now().strftime(\"%H_%M_%S\")\n",
    "        ),\n",
    "        run_config=train.RunConfig(\n",
    "            storage_path=os.path.join(os.getcwd(), \"./results\"),\n",
    "            name=\"simpleneuralnetwork\",\n",
    "            verbose=0,\n",
    "        ),\n",
    "        param_space=cs,\n",
    "    )\n",
    "    begin = time.time()\n",
    "    results = tuner.fit()\n",
    "    end = time.time() - begin\n",
    "    best_result = results.get_best_result(metric=\"mean_accuracy\", mode=\"max\")\n",
    "    best_config = best_result.config\n",
    "    print(\"auto optimization finished\")\n",
    "    print('time for optimisation (seconds):' + str(end))\n",
    "    print(\"Best trial config: {}\".format(best_config))\n",
    "    print(\"Best accuracy: {}\".format(best_result.metrics[\"mean_accuracy\"]))\n",
    "    return best_config"
   ]
  },
  {
   "cell_type": "code",
   "execution_count": 10,
   "metadata": {},
   "outputs": [
    {
     "data": {
      "text/plain": "<IPython.core.display.HTML object>",
      "text/html": ""
     },
     "metadata": {},
     "output_type": "display_data"
    },
    {
     "name": "stderr",
     "output_type": "stream",
     "text": [
      "2024-11-17 15:20:45,302\tINFO timeout.py:54 -- Reached timeout of 120 seconds. Stopping all trials.\n",
      "2024-11-17 15:20:45,477\tINFO tune.py:1009 -- Wrote the latest version of all result files and experiment state to 'F:/ICL stuffs/math for ML/repo/results/simpleneuralnetwork' in 0.1647s.\n",
      "2024-11-17 15:20:55,705\tWARNING experiment_analysis.py:180 -- Failed to fetch metrics for 1 trial(s):\n",
      "- objective_aef9ce58: FileNotFoundError('Could not fetch metrics for objective_aef9ce58: both result.json and progress.csv were not found at F:/ICL stuffs/math for ML/repo/results/simpleneuralnetwork/15_20_39')\n"
     ]
    },
    {
     "name": "stdout",
     "output_type": "stream",
     "text": [
      "auto optimization finished\n",
      "time for optimisation (seconds):130.65732526779175\n",
      "Best trial config: {'layer_width': 8, 'layer_depth': 3, 'activation': 'tanh', 'lr': 0.0005782962808722456, 'momentum': 0.8235657324057339, 'preprocess': 'aggregated', 'bincount': 3}\n",
      "Best accuracy: 0.5061111111111111\n",
      "Loaded dataset with dimension 45. Data shape: (90000, 45), Labels shape: (90000,)\n"
     ]
    },
    {
     "data": {
      "text/plain": "<Figure size 1000x500 with 1 Axes>",
      "image/png": "[encoded data removed]"
     },
     "metadata": {},
     "output_type": "display_data"
    }
   ],
   "source": [
    "import numpy as np\n",
    "import matplotlib.pyplot as plt\n",
    "\n",
    "dimensions = [9, 12, 15, 18, 24, 30, 45]\n",
    "best_ks = []\n",
    "accuracies = []\n",
    "\n",
    "for dim in dimensions:\n",
    "    best = search(dim)\n",
    "    data, labels = load_data_by_dimension(dim)\n",
    "    X_train, X_test, y_train, y_test = train_test_split(data, labels, test_size=0.2)\n",
    "    layers = [best[\"layer_width\"]*best[\"layer_depth\"]]\n",
    "    model = MLPClassifier(hidden_layer_sizes=layers, max_iter=1000, activation=best[\"activation\"],learning_rate_init=best[\"lr\"], momentum=best[\"momentum\"])\n",
    "    model.fit(X_train, y_train)\n",
    "    accuracy = model.score(X_test, y_test)\n",
    "    accuracies.append(accuracy)\n",
    "\n",
    "# Plot the performance of models with their best k\n",
    "plt.figure(figsize=(10, 5))\n",
    "plt.plot(dimensions, accuracies, marker='o', linestyle='-', color='b')\n",
    "plt.xlabel('Number of Dimensions')\n",
    "plt.ylabel('Accuracy')\n",
    "plt.title('MLP Classifier Performance vs. Dimensionality')\n",
    "plt.grid(True)\n",
    "plt.show()"
   ]
  },
  {
   "cell_type": "code",
   "execution_count": null,
   "metadata": {},
   "outputs": [],
   "source": [
    "import seaborn as sns\n",
    "n = [9, 12, 15, 18, 24, 30, 45]\n",
    "target_accuracies = [0.95, 0.925, 0.9, 0.875, 0.8, 0.75, 0.7]\n",
    "\n",
    "# Plotting settings\n",
    "sns.set(style=\"whitegrid\")\n",
    "sns.set_context(\"poster\", font_scale=0.8)\n",
    "plt.figure(figsize=(10, 8))\n",
    "\n",
    "# Plotting kNN performance\n",
    "plt.plot(dimensions, accuracies, label='MLP Classifier Performance', marker='o', linestyle='-', color='b')\n",
    "plt.scatter(dimensions, accuracies, color='b')\n",
    "\n",
    "# Plotting target accuracies\n",
    "plt.plot(n, target_accuracies, label='Target Accuracy', marker='o', linestyle='-', color='r')\n",
    "plt.scatter(n, target_accuracies, color='r')\n",
    "\n",
    "# Annotating target accuracies\n",
    "ax = plt.gca()\n",
    "for j, (x, y) in enumerate(zip(n, target_accuracies)):\n",
    "  ax.text(x, y + 0.01, f'{y:.3f}', ha='left', va='bottom', color='r', size=12)\n",
    "for j, (x, y) in enumerate(zip(n, accuracies)):\n",
    "  ax.text(x, y + 0.01, f'{y:.3f}', ha='left', va='bottom', color='b', size=12)\n",
    "\n",
    "# Titles and labels\n",
    "plt.title(\"Comparison of MLP Classifier Performance vs Target Accuracies\")\n",
    "plt.ylabel(\"Accuracy\")\n",
    "plt.xlabel(\"Feature Dimension of Kryptonite-n (n)\")\n",
    "plt.legend()\n",
    "\n",
    "# Show the plot\n",
    "plt.show()"
   ]
  }
 ],
 "metadata": {
  "kernelspec": {
   "display_name": "Python 3",
   "language": "python",
   "name": "python3"
  },
  "language_info": {
   "codemirror_mode": {
    "name": "ipython",
    "version": 3
   },
   "file_extension": ".py",
   "mimetype": "text/x-python",
   "name": "python",
   "nbconvert_exporter": "python",
   "pygments_lexer": "ipython3",
   "version": "3.8.8"
  }
 },
 "nbformat": 4,
 "nbformat_minor": 2
}
