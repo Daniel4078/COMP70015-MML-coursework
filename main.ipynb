{
 "cells": [
  {
   "cell_type": "markdown",
   "metadata": {},
   "source": [
    "Lets first write down the models that we are going to try out here.\n",
    "We currently have K-NN with feature pruning that remove ones with high variance, probabily due to input are bipolar and some of them are providing redundant info causing distance difference between points in higher dimension become smaller and so KNN performs not well with those extra feature\n",
    "\n",
    "Going to try engineer a different prompt for GPT2 to counter-act its large language model behavior to reduce holucination\n",
    "Also show that random forest/decision tree is not suitable for this task as we found the features do not provide a binary separation for their labels.\n",
    "try basis expansion with other basis than polynomial (like logrismic and sin/cosin) and explain why polynomial expansion is not suited."
   ]
  }
 ],
 "metadata": {
  "language_info": {
   "name": "python"
  }
 },
 "nbformat": 4,
 "nbformat_minor": 2
}
